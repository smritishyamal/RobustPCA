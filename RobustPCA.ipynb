{
 "cells": [
  {
   "cell_type": "markdown",
   "metadata": {},
   "source": [
    "# Robust PCA Implementation\n",
    "In this assignment question, we want to assess your ability to implement an optimization algorithm from a given paper. \n",
    "\n",
    "The task is to implement:\n",
    "Algorithm 1 (Principal Component Pursuit by Alternating Directions) described on page 29 in\n",
    "\n",
    "https://statweb.stanford.edu/~candes/papers/RobustPCA.pdf\n",
    "\n",
    "Although the paper is filled with complex proofs, the concept is straight forward and the algorithm can be implemented with a reasonable amount of code."
   ]
  },
  {
   "cell_type": "markdown",
   "metadata": {},
   "source": [
    "## Background\n",
    "Electricity prices tend to vary smoothly in response to supply and demand signals, but are subject to intermittent price spikes that deviate substantially from normal behaviour.\n",
    "\n",
    "Forming the price data from one commerical trading hub into a matrix $M$ with each day as a row and each hour as a column, we can consider $M$ as the combination of a low-rank matrix $L$ consisting of the normal daily market behaviour, and a sparse matrix $S$ consisting of the intermittent price spikes.\n",
    "\n",
    "$M$ = $L + S$\n",
    "\n",
    "Since we can only measure the market prices $M$, we wish estimate $L$ and $S$ by solving the Robust PCA problem:\n",
    "\n",
    "$\\min{\\|L\\|_* + \\lambda |S|_1}$\n",
    "\n",
    "subject to $L + S = M$ "
   ]
  },
  {
   "cell_type": "markdown",
   "metadata": {},
   "source": [
    "## Dataset"
   ]
  },
  {
   "cell_type": "code",
   "execution_count": 1,
   "metadata": {
    "collapsed": true
   },
   "outputs": [],
   "source": [
    "import pandas as pd\n",
    "from matplotlib import pyplot as plt\n",
    "import numpy as np"
   ]
  },
  {
   "cell_type": "code",
   "execution_count": 2,
   "metadata": {},
   "outputs": [
    {
     "name": "stdout",
     "output_type": "stream",
     "text": [
      "(244, 24)\n"
     ]
    },
    {
     "data": {
      "image/png": "[encoded data removed]",
      "text/plain": [
       "<Figure size 432x288 with 1 Axes>"
      ]
     },
     "metadata": {
      "needs_background": "light"
     },
     "output_type": "display_data"
    }
   ],
   "source": [
    "data = pd.read_csv(\"Question1.csv\", index_col=0, parse_dates=True)\n",
    "\n",
    "# Unroll the daily values to plot the timeseries. Note the spikes we wish to separate.\n",
    "timeseries = data.stack()\n",
    "timeseries.index = timeseries.index.droplevel(1)\n",
    "timeseries.plot()\n",
    "\n",
    "M = data.values\n",
    "print(M.shape)"
   ]
  },
  {
   "cell_type": "markdown",
   "metadata": {},
   "source": [
    "The matrix $M$ is 244 rows (days) by 24 columns (hours)."
   ]
  },
  {
   "cell_type": "markdown",
   "metadata": {},
   "source": [
    "## Implementation"
   ]
  },
  {
   "cell_type": "markdown",
   "metadata": {},
   "source": [
    "Solve for $L$ and $S$, the low-rank component and sparse component of the matrix $M$."
   ]
  },
  {
   "cell_type": "markdown",
   "metadata": {},
   "source": [
    "## Calculate parameters\n",
    "$\\mu$, $\\lambda$"
   ]
  },
  {
   "cell_type": "code",
   "execution_count": 3,
   "metadata": {},
   "outputs": [
    {
     "name": "stdout",
     "output_type": "stream",
     "text": [
      "0.11778780976625072\n",
      "8.489842896174864\n"
     ]
    }
   ],
   "source": [
    "# Calculate $\\mu$\n",
    "mu = np.prod(M.shape)/(4*np.linalg.norm(M,1))\n",
    "print(mu)\n",
    "mu_inv = 1/mu\n",
    "print(mu_inv)"
   ]
  },
  {
   "cell_type": "code",
   "execution_count": 4,
   "metadata": {},
   "outputs": [
    {
     "name": "stdout",
     "output_type": "stream",
     "text": [
      "0.06401843996644799\n"
     ]
    }
   ],
   "source": [
    "# Calculate $\\lambda$\n",
    "lmbda = 1/np.sqrt(np.max(M.shape[0]))\n",
    "print(lmbda)"
   ]
  },
  {
   "cell_type": "markdown",
   "metadata": {},
   "source": [
    "## Operators\n",
    "We write two functions to calculate the shrinkage and singular value thresholding operators."
   ]
  },
  {
   "cell_type": "code",
   "execution_count": 5,
   "metadata": {
    "collapsed": true
   },
   "outputs": [],
   "source": [
    "# Method for getting S_tau_x, shrinkage operator\n",
    "def S_tau_X (X, tau):\n",
    "    return np.sign(X)*np.maximum((np.abs(X) - tau), np.zeros(X.shape))\n",
    "\n",
    "# Method for getting D_tau(X), singular value thresholding operator\n",
    "def D_tau_X (X, tau):\n",
    "    # First take the SVD of X\n",
    "    U,S,V = np.linalg.svd(X, full_matrices=False)\n",
    "    \n",
    "    # Then apply shrinkage to S\n",
    "    return np.matmul(U, np.matmul(np.diag(S_tau_X(S, tau)), V))"
   ]
  },
  {
   "cell_type": "markdown",
   "metadata": {},
   "source": [
    "## Optimization"
   ]
  },
  {
   "cell_type": "code",
   "execution_count": 6,
   "metadata": {},
   "outputs": [
    {
     "name": "stdout",
     "output_type": "stream",
     "text": [
      "####################\n",
      "iteration no:\n",
      "1\n",
      "error:\n",
      "18.68011118685079\n",
      "####################\n",
      "####################\n",
      "iteration no:\n",
      "100\n",
      "error:\n",
      "0.6217021782947165\n",
      "####################\n",
      "####################\n",
      "iteration no:\n",
      "200\n",
      "error:\n",
      "0.6028551247601494\n",
      "####################\n",
      "####################\n",
      "iteration no:\n",
      "300\n",
      "error:\n",
      "0.3410113276793077\n",
      "####################\n",
      "####################\n",
      "iteration no:\n",
      "400\n",
      "error:\n",
      "0.15908784615708543\n",
      "####################\n",
      "####################\n",
      "iteration no:\n",
      "500\n",
      "error:\n",
      "0.02503334877534937\n",
      "####################\n",
      "####################\n",
      "iteration no:\n",
      "600\n",
      "error:\n",
      "0.007308872647851959\n",
      "####################\n",
      "####################\n",
      "iteration no:\n",
      "700\n",
      "error:\n",
      "0.0021313879580739255\n",
      "####################\n",
      "####################\n",
      "iteration no:\n",
      "800\n",
      "error:\n",
      "0.0006126047208872991\n",
      "####################\n",
      "####################\n",
      "iteration no:\n",
      "819\n",
      "error:\n",
      "0.00047647293765837713\n",
      "####################\n"
     ]
    }
   ],
   "source": [
    "# Optimization paremeters\n",
    "delta = 1e-7\n",
    "tol = delta * np.linalg.norm(M, 'fro')\n",
    "max_itr = 1000\n",
    "error = np.Inf\n",
    "itr_count = 0\n",
    "\n",
    "# Initialize  S, Y\n",
    "Sk = np.zeros(M.shape)\n",
    "Yk = np.zeros(M.shape)\n",
    "\n",
    "# Defining Lk \n",
    "Lk = np.zeros(M.shape)\n",
    "\n",
    "# Optimization loop\n",
    "while tol < error and itr_count < max_itr:\n",
    "    # First compute L_{k+1}\n",
    "    Lk = D_tau_X(M - Sk + mu_inv*Yk, mu_inv)\n",
    "    \n",
    "    # Next S_{k+1}\n",
    "    Sk = S_tau_X(M - Lk + mu_inv*Yk, lmbda*mu_inv)\n",
    "    \n",
    "    # Then Y_{k+1}\n",
    "    Yk = Yk + mu*(M - Lk - Sk)\n",
    "    \n",
    "    # Calculate error\n",
    "    error = np.linalg.norm(M - Lk - Sk, 'fro')\n",
    "    \n",
    "    # Increment the counter\n",
    "    itr_count = itr_count + 1\n",
    "    \n",
    "    # Print iteration results (every 20 iteration)\n",
    "    if itr_count == 1 or (itr_count % 100) == 0 or tol >= error or itr_count > max_itr:\n",
    "        print('####################')\n",
    "        print('iteration no:')\n",
    "        print(itr_count) \n",
    "        print('error:')\n",
    "        print(error) \n",
    "        print('####################')"
   ]
  },
  {
   "cell_type": "markdown",
   "metadata": {},
   "source": [
    "## Results"
   ]
  },
  {
   "cell_type": "code",
   "execution_count": 7,
   "metadata": {},
   "outputs": [
    {
     "data": {
      "text/plain": [
       "[<matplotlib.lines.Line2D at 0x122498be0>]"
      ]
     },
     "execution_count": 7,
     "metadata": {},
     "output_type": "execute_result"
    },
    {
     "data": {
      "image/png": "[encoded data removed]",
      "text/plain": [
       "<Figure size 432x288 with 1 Axes>"
      ]
     },
     "metadata": {
      "needs_background": "light"
     },
     "output_type": "display_data"
    }
   ],
   "source": [
    "plt.plot(Lk.flatten())\n",
    "plt.plot(Sk.flatten())"
   ]
  },
  {
   "cell_type": "code",
   "execution_count": 8,
   "metadata": {},
   "outputs": [
    {
     "data": {
      "text/plain": [
       "[<matplotlib.lines.Line2D at 0x12392b978>]"
      ]
     },
     "execution_count": 8,
     "metadata": {},
     "output_type": "execute_result"
    },
    {
     "data": {
      "image/png": "[encoded data removed]",
      "text/plain": [
       "<Figure size 432x288 with 1 Axes>"
      ]
     },
     "metadata": {
      "needs_background": "light"
     },
     "output_type": "display_data"
    }
   ],
   "source": [
    "plt.plot(Sk.flatten())"
   ]
  },
  {
   "cell_type": "code",
   "execution_count": 9,
   "metadata": {},
   "outputs": [
    {
     "data": {
      "text/plain": [
       "[<matplotlib.lines.Line2D at 0x123993ac8>]"
      ]
     },
     "execution_count": 9,
     "metadata": {},
     "output_type": "execute_result"
    },
    {
     "data": {
      "image/png": "[encoded data removed]",
      "text/plain": [
       "<Figure size 432x288 with 1 Axes>"
      ]
     },
     "metadata": {
      "needs_background": "light"
     },
     "output_type": "display_data"
    }
   ],
   "source": [
    "plt.plot(Lk.flatten())"
   ]
  },
  {
   "cell_type": "code",
   "execution_count": null,
   "metadata": {
    "collapsed": true
   },
   "outputs": [],
   "source": []
  }
 ],
 "metadata": {
  "kernelspec": {
   "display_name": "Python 2",
   "language": "python",
   "name": "python2"
  },
  "language_info": {
   "codemirror_mode": {
    "name": "ipython",
    "version": 2
   },
   "file_extension": ".py",
   "mimetype": "text/x-python",
   "name": "python",
   "nbconvert_exporter": "python",
   "pygments_lexer": "ipython2",
   "version": "2.7.13"
  }
 },
 "nbformat": 4,
 "nbformat_minor": 2
}
